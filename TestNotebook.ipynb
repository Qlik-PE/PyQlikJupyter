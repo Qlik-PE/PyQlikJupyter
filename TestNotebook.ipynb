{
 "cells": [
  {
   "cell_type": "code",
   "execution_count": 1,
   "metadata": {},
   "outputs": [
    {
     "name": "stdout",
     "output_type": "stream",
     "text": [
      "App 1\n",
      "App 2\n",
      "App 3\n"
     ]
    }
   ],
   "source": [
    "from engine_communicator import EngineCommunicator\n",
    "from engine_global_api import EngineGlobalApi\n",
    "\n",
    "url = 'ws://qlikcore_engine:9076'\n",
    "conn = EngineCommunicator(url)\n",
    "ega = EngineGlobalApi(conn)\n",
    "doclist=ega.get_doc_list() \n",
    "for doc in doclist:\n",
    "    print doc['qTitle']"
   ]
  },
  {
   "cell_type": "code",
   "execution_count": null,
   "metadata": {},
   "outputs": [],
   "source": []
  }
 ],
 "metadata": {
  "kernelspec": {
   "display_name": "Python 2",
   "language": "python",
   "name": "python2"
  },
  "language_info": {
   "codemirror_mode": {
    "name": "ipython",
    "version": 2
   },
   "file_extension": ".py",
   "mimetype": "text/x-python",
   "name": "python",
   "nbconvert_exporter": "python",
   "pygments_lexer": "ipython2",
   "version": "2.7.14"
  }
 },
 "nbformat": 4,
 "nbformat_minor": 2
}
